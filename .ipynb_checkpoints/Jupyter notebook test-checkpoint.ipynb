{
 "cells": [
  {
   "cell_type": "code",
   "execution_count": 1,
   "id": "02403312",
   "metadata": {
    "scrolled": true
   },
   "outputs": [],
   "source": [
    "# import numpy as np\n",
    "import keras\n",
    "import pandas as pd\n",
    "from sklearn.feature_extraction.text import TfidfVectorizer\n",
    "from sklearn.model_selection import train_test_split\n",
    "# from sklearn.metrics import accuracy_score, classification_report, confusion_matrix\n",
    "# from keras.preprocessing.text import Tokenizer\n",
    "# from keras.preprocessing.sequence import pad_sequences\n",
    "from keras.layers import Embedding, SpatialDropout1D, LSTM, Dense,Dropout\n",
    "from keras.callbacks import EarlyStopping\n",
    "from keras import Sequential\n"
   ]
  },
  {
   "cell_type": "code",
   "execution_count": 2,
   "id": "4bafcf3f",
   "metadata": {},
   "outputs": [],
   "source": [
    "# Loading the dataset for Normal as well as Porn sites\n",
    "df_porn = pd.read_csv(\"D:/python/WebsiteURLsourcecode/Classifier/Code/New folder/PornSites.csv\", index_col=None)\n",
    "df_normal = df = pd.read_csv(\"D:/python/WebsiteURLsourcecode/Classifier/Code/New folder/NormalSites.csv\", index_col=None)\n",
    "\n",
    "# Removing missing values from both datasets\n",
    "df_porn.dropna(how='any', inplace=True)\n",
    "df_normal.dropna(how='any', inplace=True)\n",
    "\n",
    "# Combining both datasets\n",
    "dataset = pd.concat([df_porn, df_normal], ignore_index=True)"
   ]
  },
  {
   "cell_type": "code",
   "execution_count": 3,
   "id": "adc92e53",
   "metadata": {},
   "outputs": [],
   "source": [
    "# Splitting dataset into X & y\n",
    "X = dataset.iloc[:, 0].values\n",
    "Y = dataset.iloc[:, 1].values"
   ]
  },
  {
   "cell_type": "code",
   "execution_count": 4,
   "id": "e4232d95",
   "metadata": {},
   "outputs": [],
   "source": [
    "# Building a TF IDF matrix out of the corpus of reviews\n",
    "td = TfidfVectorizer(max_features=10000)\n",
    "X = td.fit_transform(X).toarray()"
   ]
  },
  {
   "cell_type": "code",
   "execution_count": 5,
   "id": "01da92b2",
   "metadata": {},
   "outputs": [],
   "source": [
    "X = X[:, :, None]\n",
    "\n",
    "X_train, X_test, Y_train, Y_test = train_test_split(X, Y, test_size=0.10, random_state=42)\n",
    "\n",
    "# model = Sequential()\n",
    "# # model.add(Embedding(MAX_NB_WORDS, EMBEDDING_DIM, input_length=X.shape[1]))\n",
    "# # model.add(SpatialDropout1D(0.2))\n",
    "# model.add(LSTM(units=100, input_shape=X_train.shape[1:], recurrent_dropout=0.2, return_sequences=True))\n",
    "# model.add(LSTM(units=100, dropout=0.2, recurrent_dropout=0.2, return_sequences=True))\n",
    "# # model.add(LSTM(units=100, dropout=0.2, recurrent_dropout=0.2, return_sequences=True))\n",
    "# # model.add(LSTM(units=100, dropout=0.2, recurrent_dropout=0.2, return_sequences=True))\n",
    "# # model.add(Dense(1, activation='softmax'))\n",
    "# model.add(Dense(1, activation='sigmoid'))\n",
    "# # model.compile(loss='categorical_crossentropy', optimizer='adam', metrics=['accuracy'])\n",
    "# model.compile(loss='binary_crossentropy', metrics=['accuracy'], optimizer='adam')\n",
    "# print(model.summary())\n",
    "\n",
    "model = Sequential()\n",
    "model.add(LSTM(units=50, input_shape=X_train.shape[1:], return_sequences=True))\n",
    "model.add(Dropout(0.2))\n",
    "model.add(LSTM(units=50,return_sequences=True))\n",
    "model.add(Dropout(0.2))\n",
    "model.add(LSTM(units=50,return_sequences=True))\n",
    "model.add(Dropout(0.2))\n",
    "model.add(LSTM(units=50))\n",
    "model.add(Dropout(0.2))\n",
    "model.add(Dense(units=1,activation='sigmoid'))\n",
    "model.compile(optimizer='adam', loss='binary_crossentropy', metrics=['accuracy'])\n"
   ]
  },
  {
   "cell_type": "code",
   "execution_count": null,
   "id": "e3277e97",
   "metadata": {},
   "outputs": [
    {
     "name": "stdout",
     "output_type": "stream",
     "text": [
      "Epoch 1/2\n",
      "20/88 [=====>........................] - ETA: 4:14:12 - loss: 0.6335 - accuracy: 0.6953"
     ]
    }
   ],
   "source": [
    "epochs = 2\n",
    "batch_size = 64\n",
    "\n",
    "# history = model.fit(X_train, Y_train, epochs=epochs, batch_size=batch_size,validation_split=0.1,callbacks=[EarlyStopping(monitor='val_loss', patience=3, min_delta=0.0001)])\n",
    "# history = model.fit(X_train, Y_train, epochs=epochs, batch_size=batch_size, validation_data=(X_test, Y_test))\n",
    "history = model.fit(X_train, Y_train, epochs=epochs, batch_size=batch_size)\n"
   ]
  },
  {
   "cell_type": "code",
   "execution_count": null,
   "id": "a0260d62",
   "metadata": {},
   "outputs": [],
   "source": [
    "# PCA\n",
    "# from sklearn.decomposition import PCA\n",
    "# # pca = PCA(.95)\n",
    "# pca = PCA(n_components=3500)\n",
    "#\n",
    "# X = pca.fit_transform(X)\n",
    "#\n",
    "# explained_variance = pca.explained_variance_ratio_\n",
    "\n",
    "# Splitting into training & test subsets\n",
    "# X_train, X_test, y_train, y_test = train_test_split(X, y, test_size=0.3, random_state=42)\n",
    "\n",
    "\n",
    "# # Naive Bayes\n",
    "# # Training the classifier & predicting on test data\n",
    "# from sklearn.naive_bayes import MultinomialNB\n",
    "#\n",
    "# nb_classifier = MultinomialNB()\n",
    "# nb_classifier.fit(X_train, y_train)\n",
    "#\n",
    "# y_pred = nb_classifier.predict(X_test)\n",
    "#\n",
    "# # Classification metrics\n",
    "# classification_report = classification_report(y_test, y_pred)\n",
    "#\n",
    "# print('\\n Accuracy for Naive bayes: ', accuracy_score(y_test, y_pred))\n",
    "# print('\\nClassification Report for Naive Bayes')\n",
    "# print('======================================================')\n",
    "# print('\\n', classification_report)\n",
    "\n",
    "\n",
    "# SVM\n",
    "# from sklearn import svm\n",
    "#\n",
    "# # Creating a SVM Classifier\n",
    "# svm_classifier = svm.SVC(kernel='linear')     # Linear Kernel\n",
    "#\n",
    "# # Training the model\n",
    "# svm_classifier.fit(X_train, y_train)\n",
    "#\n",
    "# # Predict the response for test dataset\n",
    "# y_pred1 = svm_classifier.predict(X_test)\n",
    "\n",
    "# Classification metrics\n",
    "# classification_report = classification_report(y_test, y_pred1)\n",
    "\n",
    "# print('\\n Accuracy for SVM: ', accuracy_score(y_test, y_pred1))\n",
    "# #print('\\nClassification Report - SVM')\n",
    "# print('======================================================')\n",
    "# #print('\\n', classification_report)\n",
    "# print('\\n Confusion Matric: \\n',confusion_matrix(y_test, y_pred1))\n"
   ]
  }
 ],
 "metadata": {
  "kernelspec": {
   "display_name": "Python 3",
   "language": "python",
   "name": "python3"
  },
  "language_info": {
   "codemirror_mode": {
    "name": "ipython",
    "version": 3
   },
   "file_extension": ".py",
   "mimetype": "text/x-python",
   "name": "python",
   "nbconvert_exporter": "python",
   "pygments_lexer": "ipython3",
   "version": "3.8.8"
  }
 },
 "nbformat": 4,
 "nbformat_minor": 5
}
